{
 "cells": [
  {
   "cell_type": "markdown",
   "metadata": {
    "deletable": true,
    "editable": true,
    "slideshow": {
     "slide_type": "slide"
    }
   },
   "source": [
    "\n",
    "Proteus Tutorials![triton](http://proteustoolkit.org/_static/corps_logo_cross2.svg)\n",
    "=================\n",
    "\n",
    "ERDC Fluid-Structure Interaction R&D Workshop\n",
    "\n",
    "Nov 15-16, 2017"
   ]
  },
  {
   "cell_type": "markdown",
   "metadata": {
    "deletable": true,
    "editable": true,
    "slideshow": {
     "slide_type": "slide"
    }
   },
   "source": [
    "Outline for this morning\n",
    "========================\n",
    "\n",
    "- Introduction to Proteus and basic tutorials (Chris)\n",
    "- Simulating waves: `proteus.WaveTools` and wave/structure tutorials, *Aggelos Dimakopoulos*, HR Wallingford\n",
    "- Simulating structures: `proteus.Geometry` and floating structure tutorials, *Tristan de Lataillade*, HR Wallingford/IDCORE\n",
    "- Using Proteus for fast prototyping and numerical methods research, *Alistair Bentley*, CHL/Clemson University\n",
    "- Proteus roadmap (Chris)"
   ]
  },
  {
   "cell_type": "markdown",
   "metadata": {
    "deletable": true,
    "editable": true,
    "slideshow": {
     "slide_type": "slide"
    }
   },
   "source": [
    "Current and Former Contributors\n",
    "===============================\n",
    "- Chris Kees, Matthew Farthing, Aron Ahmadia, CHL\n",
    "- Aggelos Dimakopolous, Tristan de Lataillade, HR Wallingford \n",
    "- Steve Mattis and Tim Povich, Univeristy of Texas\n",
    "- Ido Akkerman, UCSD\n",
    "- Spencer Patty, Texas A&M\n",
    "- Alistair Bentley,John Chrispell, and Lea Jenkins, Clemson"
   ]
  },
  {
   "cell_type": "markdown",
   "metadata": {
    "deletable": true,
    "editable": true,
    "slideshow": {
     "slide_type": "slide"
    }
   },
   "source": [
    "What is  Proteus?\n",
    "================="
   ]
  },
  {
   "cell_type": "markdown",
   "metadata": {
    "deletable": true,
    "editable": true,
    "slideshow": {
     "slide_type": "slide"
    }
   },
   "source": [
    "A Python toolkit for solving equations"
   ]
  },
  {
   "cell_type": "markdown",
   "metadata": {
    "deletable": true,
    "editable": true,
    "slideshow": {
     "slide_type": "subslide"
    }
   },
   "source": [
    "Find $u:\\Omega \\rightarrow \\mathbb{R}$ satisfying\n",
    "$$\n",
    "\\nabla \\cdot (-a\\nabla u) + r(x) = 0\n",
    "$$\n",
    "on \n",
    "$$\n",
    "\\Omega = [0,1] \\times [0,1]\n",
    "$$\n",
    "subject to\n",
    "$$\n",
    "u|_{\\partial \\Omega} = 0\n",
    "$$"
   ]
  },
  {
   "cell_type": "markdown",
   "metadata": {
    "deletable": true,
    "editable": true,
    "slideshow": {
     "slide_type": "subslide"
    }
   },
   "source": [
    "Import some tools"
   ]
  },
  {
   "cell_type": "code",
   "execution_count": 5,
   "metadata": {
    "collapsed": true,
    "deletable": true,
    "editable": true,
    "slideshow": {
     "slide_type": "fragment"
    }
   },
   "outputs": [],
   "source": [
    "%matplotlib notebook\n",
    "import matplotlib.pyplot as plt\n",
    "import numpy as np\n",
    "from proteus.iproteus import *\n",
    "import proteus.default_p as physics \n",
    "import proteus.default_n as numerics\n",
    "from proteus.TransportCoefficients import PoissonEquationCoefficients"
   ]
  },
  {
   "cell_type": "markdown",
   "metadata": {
    "deletable": true,
    "editable": true,
    "slideshow": {
     "slide_type": "subslide"
    }
   },
   "source": [
    "Define the equation"
   ]
  },
  {
   "cell_type": "code",
   "execution_count": 6,
   "metadata": {
    "collapsed": true,
    "deletable": true,
    "editable": true,
    "slideshow": {
     "slide_type": "fragment"
    }
   },
   "outputs": [],
   "source": [
    "def r(x):\n",
    "    return -2*x[...,0]*(1.0-x[...,0])-2*x[...,1]*(1.0-x[...,1])\n",
    "def a(x):\n",
    "    return np.array([[1.0,0.0],\n",
    "                     [0.0,1.0]])\n",
    "physics.coefficients = PoissonEquationCoefficients([a],[r]) \n",
    "physics.name=\"PoissonDots\""
   ]
  },
  {
   "cell_type": "markdown",
   "metadata": {
    "deletable": true,
    "editable": true,
    "slideshow": {
     "slide_type": "subslide"
    }
   },
   "source": [
    "Define the domain and boundary conditions"
   ]
  },
  {
   "cell_type": "code",
   "execution_count": 8,
   "metadata": {
    "collapsed": false,
    "deletable": true,
    "editable": true,
    "slideshow": {
     "slide_type": "fragment"
    }
   },
   "outputs": [],
   "source": [
    "physics.nd = 2\n",
    "#physics.domain =  Domain.RectangularDomain(L=[1.0,1.0],\n",
    "#                                           x=[0.0,0.0])\n",
    "\n",
    "from proteus.mprans import SpatialTools as st\n",
    "domain = Domain.PlanarStraightLineGraphDomain()\n",
    "\n",
    "bt = {'bottom': 1,\n",
    "     'right': 2,\n",
    "     'top': 3,\n",
    "     'left':4,\n",
    "     'vv':5}\n",
    "shape2 = st.CustomShape(domain,\n",
    "                       vertices=[[0.0,0.0],#vertex 0\n",
    "          [1.0,0.0],#1\n",
    "          [1.0,1.0],#2\n",
    "          [0.0,1.0]#3\n",
    "        ],\n",
    "vertexFlags=[5,5,5,5],\n",
    "segments    =[[0,1],#segment 0\n",
    "              [1,2],#1\n",
    "              [2,3],#2\n",
    "              [3,0]#3\n",
    "             ],\n",
    "segmentFlags=[ 1   , \n",
    "              2  ,\n",
    "              3    ,\n",
    "              4],\n",
    "regions=[[0.5,0.5]],\n",
    "regionFlags=[1],\n",
    "boundaryTags=bt)\n",
    "\n",
    "\n",
    "domain.MeshOptions.setElementSize(0.1)\n",
    "domain.MeshOptions.setTriangleOptions()\n",
    "domain.MeshOptions.setOutputFiles('mesh')\n",
    "\n",
    "st.assembleDomain(domain)\n",
    "physics.domain = domain\n",
    "\n",
    "shape2.BC['left'].setFixedNodes()\n",
    "shape2.BC['top'].setFixedNodes()\n",
    "shape2.BC['right'].setFixedNodes()\n",
    "shape2.BC['bottom'].setFixedNodes()\n",
    "\n",
    "def getDBC(x,flag):\n",
    "    if flag in [physics.domain.boundaryTags['left'],\n",
    "                physics.domain.boundaryTags['top'],\n",
    "                physics.domain.boundaryTags['right'],\n",
    "                physics.domain.boundaryTags['bottom']]:\n",
    "        return lambda x,t: 0.0\n",
    "        \n",
    "#getDBC = lambda x,flag:None\n",
    "physics.dirichletConditions = {0: lambda x, flag: physics.domain.bc[flag].hx_dirichlet.init_cython()}\n",
    "# def getDFBC(x, flag):\n",
    "#         #if x[0] == 0:\n",
    "#     if flag in [physics.domain.boundaryTags['left'],\n",
    "#                 physics.domain.boundaryTags['top'],\n",
    "#                 physics.domain.boundaryTags['right'],\n",
    "#                 physics.domain.boundaryTags['bottom']]:\n",
    "#         return lambda x,t: 0.0\n",
    "    \n",
    "#physics.diffusiveFluxBoundaryConditions = {0:{0:getDFBC}}"
   ]
  },
  {
   "cell_type": "markdown",
   "metadata": {
    "deletable": true,
    "editable": true,
    "slideshow": {
     "slide_type": "subslide"
    }
   },
   "source": [
    "Configure the numerics"
   ]
  },
  {
   "cell_type": "code",
   "execution_count": 9,
   "metadata": {
    "collapsed": true,
    "deletable": true,
    "editable": true,
    "slideshow": {
     "slide_type": "fragment"
    }
   },
   "outputs": [],
   "source": [
    "numerics=default_n\n",
    "numerics.femSpaces = {0:FemTools.P1}\n",
    "numerics.elementQuadrature = Quadrature.SimplexGaussQuadrature(physics.nd,3)\n",
    "numerics.elementBoundaryQuadrature = Quadrature.SimplexGaussQuadrature(physics.nd-1,3)\n",
    "# numerics.nn = 10\n",
    "numerics.he=0.1\n",
    "numerics.triangleOptions = domain.MeshOptions.triangleOptions\n",
    "numerics.numericalFluxType = NumericalFlux.Diffusion_SIPG_exterior\n",
    "so = default_so\n",
    "so.name = physics.name\n",
    "so.sList=[default_s]\n",
    "so.tnList = [0,1]"
   ]
  },
  {
   "cell_type": "markdown",
   "metadata": {
    "deletable": true,
    "editable": true,
    "slideshow": {
     "slide_type": "subslide"
    }
   },
   "source": [
    "Solve the problem"
   ]
  },
  {
   "cell_type": "code",
   "execution_count": 10,
   "metadata": {
    "collapsed": false,
    "deletable": true,
    "editable": true,
    "slideshow": {
     "slide_type": "fragment"
    }
   },
   "outputs": [
    {
     "ename": "AttributeError",
     "evalue": "'mprans.BoundaryConditions.BC_RANS' object has no attribute 'he_dirichlet'",
     "output_type": "error",
     "traceback": [
      "\u001b[0;31m\u001b[0m",
      "\u001b[0;31mAttributeError\u001b[0mTraceback (most recent call last)",
      "\u001b[0;32m<ipython-input-10-07c1f6ef4dd1>\u001b[0m in \u001b[0;36m<module>\u001b[0;34m()\u001b[0m\n\u001b[0;32m----> 1\u001b[0;31m \u001b[0mns\u001b[0m \u001b[0;34m=\u001b[0m \u001b[0mNumericalSolution\u001b[0m\u001b[0;34m.\u001b[0m\u001b[0mNS_base\u001b[0m\u001b[0;34m(\u001b[0m\u001b[0mso\u001b[0m\u001b[0;34m,\u001b[0m\u001b[0;34m[\u001b[0m\u001b[0mphysics\u001b[0m\u001b[0;34m]\u001b[0m\u001b[0;34m,\u001b[0m\u001b[0;34m[\u001b[0m\u001b[0mnumerics\u001b[0m\u001b[0;34m]\u001b[0m\u001b[0;34m,\u001b[0m\u001b[0mso\u001b[0m\u001b[0;34m.\u001b[0m\u001b[0msList\u001b[0m\u001b[0;34m,\u001b[0m\u001b[0mopts\u001b[0m\u001b[0;34m)\u001b[0m\u001b[0;34m\u001b[0m\u001b[0m\n\u001b[0m\u001b[1;32m      2\u001b[0m \u001b[0mfailed\u001b[0m \u001b[0;34m=\u001b[0m \u001b[0mns\u001b[0m\u001b[0;34m.\u001b[0m\u001b[0mcalculateSolution\u001b[0m\u001b[0;34m(\u001b[0m\u001b[0;34m'run1'\u001b[0m\u001b[0;34m)\u001b[0m\u001b[0;34m\u001b[0m\u001b[0m\n\u001b[1;32m      3\u001b[0m \u001b[0;32massert\u001b[0m\u001b[0;34m(\u001b[0m\u001b[0;32mnot\u001b[0m \u001b[0mfailed\u001b[0m\u001b[0;34m)\u001b[0m\u001b[0;34m\u001b[0m\u001b[0m\n",
      "\u001b[0;32m/home/jovyan/proteus/proteus/NumericalSolution.pyc\u001b[0m in \u001b[0;36m__init__\u001b[0;34m(self, so, pList, nList, sList, opts, simFlagsList)\u001b[0m\n\u001b[1;32m    543\u001b[0m         \u001b[0mself\u001b[0m\u001b[0;34m.\u001b[0m\u001b[0msList\u001b[0m \u001b[0;34m=\u001b[0m \u001b[0msList\u001b[0m\u001b[0;34m\u001b[0m\u001b[0m\n\u001b[1;32m    544\u001b[0m         \u001b[0mself\u001b[0m\u001b[0;34m.\u001b[0m\u001b[0mmlMesh_nList\u001b[0m \u001b[0;34m=\u001b[0m \u001b[0mmlMesh_nList\u001b[0m\u001b[0;34m\u001b[0m\u001b[0m\n\u001b[0;32m--> 545\u001b[0;31m         \u001b[0mself\u001b[0m\u001b[0;34m.\u001b[0m\u001b[0mallocateModels\u001b[0m\u001b[0;34m(\u001b[0m\u001b[0;34m)\u001b[0m\u001b[0;34m\u001b[0m\u001b[0m\n\u001b[0m\u001b[1;32m    546\u001b[0m         \u001b[0;31m#collect models to be used for spin up\u001b[0m\u001b[0;34m\u001b[0m\u001b[0;34m\u001b[0m\u001b[0m\n\u001b[1;32m    547\u001b[0m         \u001b[0;32mfor\u001b[0m \u001b[0mindex\u001b[0m \u001b[0;32min\u001b[0m \u001b[0mso\u001b[0m\u001b[0;34m.\u001b[0m\u001b[0mmodelSpinUpList\u001b[0m\u001b[0;34m:\u001b[0m\u001b[0;34m\u001b[0m\u001b[0m\n",
      "\u001b[0;32m/home/jovyan/proteus/proteus/NumericalSolution.pyc\u001b[0m in \u001b[0;36mallocateModels\u001b[0;34m(self)\u001b[0m\n\u001b[1;32m    620\u001b[0m                                                 \u001b[0mn\u001b[0m\u001b[0;34m,\u001b[0m\u001b[0;34m\u001b[0m\u001b[0m\n\u001b[1;32m    621\u001b[0m                                                 \u001b[0mmlMesh\u001b[0m\u001b[0;34m,\u001b[0m\u001b[0;34m\u001b[0m\u001b[0m\n\u001b[0;32m--> 622\u001b[0;31m                                                 OneLevelTransportType=p.LevelModelType)\n\u001b[0m\u001b[1;32m    623\u001b[0m             \u001b[0mself\u001b[0m\u001b[0;34m.\u001b[0m\u001b[0mmodelList\u001b[0m\u001b[0;34m.\u001b[0m\u001b[0mappend\u001b[0m\u001b[0;34m(\u001b[0m\u001b[0mmodel\u001b[0m\u001b[0;34m)\u001b[0m\u001b[0;34m\u001b[0m\u001b[0m\n\u001b[1;32m    624\u001b[0m \u001b[0;34m\u001b[0m\u001b[0m\n",
      "\u001b[0;32m/home/jovyan/proteus/proteus/Transport.pyc\u001b[0m in \u001b[0;36m__init__\u001b[0;34m(self, problem, numerics, mlMesh, OneLevelTransportType)\u001b[0m\n\u001b[1;32m   6156\u001b[0m             \u001b[0mproblem\u001b[0m\u001b[0;34m.\u001b[0m\u001b[0mmovingDomain\u001b[0m\u001b[0;34m,\u001b[0m\u001b[0;34m\u001b[0m\u001b[0m\n\u001b[1;32m   6157\u001b[0m             \u001b[0mPhiSpaceTypeDict\u001b[0m\u001b[0;34m=\u001b[0m\u001b[0mphiSpaces\u001b[0m\u001b[0;34m,\u001b[0m\u001b[0;34m\u001b[0m\u001b[0m\n\u001b[0;32m-> 6158\u001b[0;31m             bdyNullSpace=problem.boundaryCreatesNullSpace)\n\u001b[0m\u001b[1;32m   6159\u001b[0m     def initialize(self,\n\u001b[1;32m   6160\u001b[0m                    \u001b[0mnd\u001b[0m\u001b[0;34m,\u001b[0m\u001b[0;34m\u001b[0m\u001b[0m\n",
      "\u001b[0;32m/home/jovyan/proteus/proteus/Transport.pyc\u001b[0m in \u001b[0;36minitialize\u001b[0;34m(self, nd, mlMesh, TrialSpaceTypeDict, TestSpaceTypeDict, matType, dirichletConditionsSetterDict, coefficients, quadratureDict, elementBoundaryQuadratureDict, fluxBoundaryConditionsDict, advectiveFluxBoundaryConditionsSetterDict, diffusiveFluxBoundaryConditionsSetterDictDict, stressFluxBoundaryConditionsSetterDict, stabilization, shockCapturing, conservativeFlux, numericalFluxType, TimeIntegrationClass, massLumping, reactionLumping, weakDirichletConditions, options, useSparseDiffusion, movingDomain, PhiSpaceTypeDict, bdyNullSpace)\u001b[0m\n\u001b[1;32m   6379\u001b[0m                                             \u001b[0msd\u001b[0m\u001b[0;34m=\u001b[0m\u001b[0museSparseDiffusion\u001b[0m\u001b[0;34m,\u001b[0m\u001b[0;34m\u001b[0m\u001b[0m\n\u001b[1;32m   6380\u001b[0m                                             \u001b[0mmovingDomain\u001b[0m\u001b[0;34m=\u001b[0m\u001b[0mmovingDomain\u001b[0m\u001b[0;34m,\u001b[0m\u001b[0;34m\u001b[0m\u001b[0m\n\u001b[0;32m-> 6381\u001b[0;31m                                             bdyNullSpace=bdyNullSpace)\n\u001b[0m\u001b[1;32m   6382\u001b[0m             \u001b[0mself\u001b[0m\u001b[0;34m.\u001b[0m\u001b[0moffsetListList\u001b[0m\u001b[0;34m.\u001b[0m\u001b[0mappend\u001b[0m\u001b[0;34m(\u001b[0m\u001b[0mtransport\u001b[0m\u001b[0;34m.\u001b[0m\u001b[0moffset\u001b[0m\u001b[0;34m)\u001b[0m\u001b[0;34m\u001b[0m\u001b[0m\n\u001b[1;32m   6383\u001b[0m             \u001b[0mself\u001b[0m\u001b[0;34m.\u001b[0m\u001b[0mstrideListList\u001b[0m\u001b[0;34m.\u001b[0m\u001b[0mappend\u001b[0m\u001b[0;34m(\u001b[0m\u001b[0mtransport\u001b[0m\u001b[0;34m.\u001b[0m\u001b[0mstride\u001b[0m\u001b[0;34m)\u001b[0m\u001b[0;34m\u001b[0m\u001b[0m\n",
      "\u001b[0;32m/home/jovyan/proteus/proteus/Transport.pyc\u001b[0m in \u001b[0;36m__init__\u001b[0;34m(self, uDict, phiDict, testSpaceDict, matType, dofBoundaryConditionsDict, dofBoundaryConditionsSetterDict, coefficients, elementQuadrature, elementBoundaryQuadrature, fluxBoundaryConditionsDict, advectiveFluxBoundaryConditionsSetterDict, diffusiveFluxBoundaryConditionsSetterDictDict, stressFluxBoundaryConditionsSetterDict, stabilization, shockCapturing, conservativeFluxDict, numericalFluxType, TimeIntegrationClass, massLumping, reactionLumping, options, name, reuse_trial_and_test_quadrature, sd, movingDomain, bdyNullSpace)\u001b[0m\n\u001b[1;32m   1564\u001b[0m                                                        \u001b[0mdofBoundaryConditionsSetterDict\u001b[0m\u001b[0;34m,\u001b[0m\u001b[0;34m\u001b[0m\u001b[0m\n\u001b[1;32m   1565\u001b[0m                                                        \u001b[0madvectiveFluxBoundaryConditionsSetterDict\u001b[0m\u001b[0;34m,\u001b[0m\u001b[0;34m\u001b[0m\u001b[0m\n\u001b[0;32m-> 1566\u001b[0;31m                                                        diffusiveFluxBoundaryConditionsSetterDictDict)\n\u001b[0m\u001b[1;32m   1567\u001b[0m             \u001b[0;32melse\u001b[0m\u001b[0;34m:\u001b[0m\u001b[0;34m\u001b[0m\u001b[0m\n\u001b[1;32m   1568\u001b[0m                 self.numericalFlux = numericalFluxType(self,\n",
      "\u001b[0;32m/home/jovyan/proteus/proteus/NumericalFlux.pyc\u001b[0m in \u001b[0;36m__init__\u001b[0;34m(self, vt, getPointwiseBoundaryConditions, getAdvectiveFluxBoundaryConditions, getDiffusiveFluxBoundaryConditions, getPeriodicBoundaryConditions)\u001b[0m\n\u001b[1;32m   2124\u001b[0m                                          \u001b[0mgetAdvectiveFluxBoundaryConditions\u001b[0m\u001b[0;34m,\u001b[0m\u001b[0;34m\u001b[0m\u001b[0m\n\u001b[1;32m   2125\u001b[0m                                          \u001b[0mgetDiffusiveFluxBoundaryConditions\u001b[0m\u001b[0;34m,\u001b[0m\u001b[0;34m\u001b[0m\u001b[0m\n\u001b[0;32m-> 2126\u001b[0;31m                                          getPeriodicBoundaryConditions)\n\u001b[0m\u001b[1;32m   2127\u001b[0m         \u001b[0mself\u001b[0m\u001b[0;34m.\u001b[0m\u001b[0mincludeBoundaryAdjoint\u001b[0m\u001b[0;34m=\u001b[0m\u001b[0mTrue\u001b[0m\u001b[0;34m\u001b[0m\u001b[0m\n\u001b[1;32m   2128\u001b[0m         \u001b[0mself\u001b[0m\u001b[0;34m.\u001b[0m\u001b[0mboundaryAdjoint_sigma\u001b[0m\u001b[0;34m=\u001b[0m\u001b[0;36m1.0\u001b[0m\u001b[0;34m\u001b[0m\u001b[0m\n",
      "\u001b[0;32m/home/jovyan/proteus/proteus/NumericalFlux.pyc\u001b[0m in \u001b[0;36m__init__\u001b[0;34m(self, vt, getPointwiseBoundaryConditions, getAdvectiveFluxBoundaryConditions, getDiffusiveFluxBoundaryConditions, getPeriodicBoundaryConditions)\u001b[0m\n\u001b[1;32m   2014\u001b[0m                  \u001b[0mgetAdvectiveFluxBoundaryConditions\u001b[0m\u001b[0;34m,\u001b[0m\u001b[0;34m\u001b[0m\u001b[0m\n\u001b[1;32m   2015\u001b[0m                  \u001b[0mgetDiffusiveFluxBoundaryConditions\u001b[0m\u001b[0;34m,\u001b[0m\u001b[0;34m\u001b[0m\u001b[0m\n\u001b[0;32m-> 2016\u001b[0;31m                  getPeriodicBoundaryConditions)\n\u001b[0m\u001b[1;32m   2017\u001b[0m         \u001b[0mself\u001b[0m\u001b[0;34m.\u001b[0m\u001b[0mhasInterior\u001b[0m\u001b[0;34m=\u001b[0m\u001b[0mFalse\u001b[0m\u001b[0;34m\u001b[0m\u001b[0m\n\u001b[1;32m   2018\u001b[0m         \u001b[0mself\u001b[0m\u001b[0;34m.\u001b[0m\u001b[0mscale_penalty\u001b[0m \u001b[0;34m=\u001b[0m \u001b[0;36m1\u001b[0m\u001b[0;34m;\u001b[0m \u001b[0mself\u001b[0m\u001b[0;34m.\u001b[0m\u001b[0mpenalty_floor\u001b[0m \u001b[0;34m=\u001b[0m \u001b[0;36m0.0\u001b[0m\u001b[0;34m\u001b[0m\u001b[0m\n",
      "\u001b[0;32m/home/jovyan/proteus/proteus/NumericalFlux.pyc\u001b[0m in \u001b[0;36m__init__\u001b[0;34m(self, vt, getPointwiseBoundaryConditions, getAdvectiveFluxBoundaryConditions, getDiffusiveFluxBoundaryConditions, getPeriodicBoundaryConditions, parallelPeriodic)\u001b[0m\n\u001b[1;32m    161\u001b[0m                     \u001b[0;32mtry\u001b[0m\u001b[0;34m:\u001b[0m\u001b[0;34m\u001b[0m\u001b[0m\n\u001b[1;32m    162\u001b[0m                         \u001b[0;31m#mwf now try to have flag for boundary type returned too\u001b[0m\u001b[0;34m\u001b[0m\u001b[0;34m\u001b[0m\u001b[0m\n\u001b[0;32m--> 163\u001b[0;31m                         \u001b[0mgReturn\u001b[0m \u001b[0;34m=\u001b[0m \u001b[0mgetPointwiseBoundaryConditions\u001b[0m\u001b[0;34m[\u001b[0m\u001b[0mci\u001b[0m\u001b[0;34m]\u001b[0m\u001b[0;34m(\u001b[0m\u001b[0mx\u001b[0m\u001b[0;34m,\u001b[0m\u001b[0mmaterialFlag\u001b[0m\u001b[0;34m)\u001b[0m\u001b[0;34m\u001b[0m\u001b[0m\n\u001b[0m\u001b[1;32m    164\u001b[0m                         \u001b[0;32mtry\u001b[0m\u001b[0;34m:\u001b[0m\u001b[0;34m\u001b[0m\u001b[0m\n\u001b[1;32m    165\u001b[0m                             \u001b[0;31m#mwf debug\u001b[0m\u001b[0;34m\u001b[0m\u001b[0;34m\u001b[0m\u001b[0m\n",
      "\u001b[0;32m<ipython-input-8-21964c71a794>\u001b[0m in \u001b[0;36m<lambda>\u001b[0;34m(x, flag)\u001b[0m\n\u001b[1;32m     52\u001b[0m \u001b[0;34m\u001b[0m\u001b[0m\n\u001b[1;32m     53\u001b[0m \u001b[0;31m#getDBC = lambda x,flag:None\u001b[0m\u001b[0;34m\u001b[0m\u001b[0;34m\u001b[0m\u001b[0m\n\u001b[0;32m---> 54\u001b[0;31m \u001b[0mphysics\u001b[0m\u001b[0;34m.\u001b[0m\u001b[0mdirichletConditions\u001b[0m \u001b[0;34m=\u001b[0m \u001b[0;34m{\u001b[0m\u001b[0;36m0\u001b[0m\u001b[0;34m:\u001b[0m \u001b[0;32mlambda\u001b[0m \u001b[0mx\u001b[0m\u001b[0;34m,\u001b[0m \u001b[0mflag\u001b[0m\u001b[0;34m:\u001b[0m \u001b[0mphysics\u001b[0m\u001b[0;34m.\u001b[0m\u001b[0mdomain\u001b[0m\u001b[0;34m.\u001b[0m\u001b[0mbc\u001b[0m\u001b[0;34m[\u001b[0m\u001b[0mflag\u001b[0m\u001b[0;34m]\u001b[0m\u001b[0;34m.\u001b[0m\u001b[0mhe_dirichlet\u001b[0m\u001b[0;34m.\u001b[0m\u001b[0minit_cython\u001b[0m\u001b[0;34m(\u001b[0m\u001b[0;34m)\u001b[0m\u001b[0;34m}\u001b[0m\u001b[0;34m\u001b[0m\u001b[0m\n\u001b[0m\u001b[1;32m     55\u001b[0m \u001b[0;31m# def getDFBC(x, flag):\u001b[0m\u001b[0;34m\u001b[0m\u001b[0;34m\u001b[0m\u001b[0m\n\u001b[1;32m     56\u001b[0m \u001b[0;31m#         #if x[0] == 0:\u001b[0m\u001b[0;34m\u001b[0m\u001b[0;34m\u001b[0m\u001b[0m\n",
      "\u001b[0;31mAttributeError\u001b[0m: 'mprans.BoundaryConditions.BC_RANS' object has no attribute 'he_dirichlet'"
     ]
    }
   ],
   "source": [
    "ns = NumericalSolution.NS_base(so,[physics],[numerics],so.sList,opts)\n",
    "failed = ns.calculateSolution('run1')\n",
    "assert(not failed)"
   ]
  },
  {
   "cell_type": "markdown",
   "metadata": {
    "deletable": true,
    "editable": true,
    "slideshow": {
     "slide_type": "slide"
    }
   },
   "source": [
    "Plot the solution"
   ]
  },
  {
   "cell_type": "code",
   "execution_count": 11,
   "metadata": {
    "collapsed": false,
    "deletable": true,
    "editable": true,
    "scrolled": false,
    "slideshow": {
     "slide_type": "fragment"
    }
   },
   "outputs": [
    {
     "ename": "NameError",
     "evalue": "name 'ns' is not defined",
     "output_type": "error",
     "traceback": [
      "\u001b[0;31m\u001b[0m",
      "\u001b[0;31mNameError\u001b[0mTraceback (most recent call last)",
      "\u001b[0;32m<ipython-input-11-22a354100ab4>\u001b[0m in \u001b[0;36m<module>\u001b[0;34m()\u001b[0m\n\u001b[0;32m----> 1\u001b[0;31m \u001b[0mmodel\u001b[0m \u001b[0;34m=\u001b[0m \u001b[0mns\u001b[0m\u001b[0;34m.\u001b[0m\u001b[0mmodelList\u001b[0m\u001b[0;34m[\u001b[0m\u001b[0;36m0\u001b[0m\u001b[0;34m]\u001b[0m\u001b[0;34m.\u001b[0m\u001b[0mlevelModelList\u001b[0m\u001b[0;34m[\u001b[0m\u001b[0;34m-\u001b[0m\u001b[0;36m1\u001b[0m\u001b[0;34m]\u001b[0m\u001b[0;34m\u001b[0m\u001b[0m\n\u001b[0m\u001b[1;32m      2\u001b[0m \u001b[0mplt\u001b[0m\u001b[0;34m.\u001b[0m\u001b[0mfigure\u001b[0m\u001b[0;34m(\u001b[0m\u001b[0;34m)\u001b[0m\u001b[0;34m\u001b[0m\u001b[0m\n\u001b[1;32m      3\u001b[0m plt.tricontourf(model.mesh.nodeArray[:,0],\n\u001b[1;32m      4\u001b[0m                 \u001b[0mmodel\u001b[0m\u001b[0;34m.\u001b[0m\u001b[0mmesh\u001b[0m\u001b[0;34m.\u001b[0m\u001b[0mnodeArray\u001b[0m\u001b[0;34m[\u001b[0m\u001b[0;34m:\u001b[0m\u001b[0;34m,\u001b[0m\u001b[0;36m1\u001b[0m\u001b[0;34m]\u001b[0m\u001b[0;34m,\u001b[0m\u001b[0;34m\u001b[0m\u001b[0m\n\u001b[1;32m      5\u001b[0m                 \u001b[0mmodel\u001b[0m\u001b[0;34m.\u001b[0m\u001b[0mmesh\u001b[0m\u001b[0;34m.\u001b[0m\u001b[0melementNodesArray\u001b[0m\u001b[0;34m,\u001b[0m\u001b[0;34m\u001b[0m\u001b[0m\n",
      "\u001b[0;31mNameError\u001b[0m: name 'ns' is not defined"
     ]
    }
   ],
   "source": [
    "model = ns.modelList[0].levelModelList[-1]\n",
    "plt.figure()\n",
    "plt.tricontourf(model.mesh.nodeArray[:,0],\n",
    "                model.mesh.nodeArray[:,1],\n",
    "                model.mesh.elementNodesArray,\n",
    "                model.u[0].dof)\n",
    "\n",
    "import matplotlib.tri as tri\n",
    "# Create the Triangulation; no triangles so Delaunay triangulation created.\n",
    "triang = tri.Triangulation(model.mesh.nodeArray[:,0],\n",
    "                          model.mesh.nodeArray[:,1],\n",
    "                          model.mesh.elementNodesArray)\n",
    "plt.figure()\n",
    "plt.gca().set_aspect('equal')\n",
    "plt.triplot(triang, 'b.-', lw=0.1)"
   ]
  },
  {
   "cell_type": "markdown",
   "metadata": {
    "deletable": true,
    "editable": true,
    "slideshow": {
     "slide_type": "slide"
    }
   },
   "source": [
    "A Python toolkit for research on ***continuum models***"
   ]
  },
  {
   "cell_type": "code",
   "execution_count": null,
   "metadata": {
    "collapsed": true,
    "deletable": true,
    "editable": true,
    "slideshow": {
     "slide_type": "subslide"
    }
   },
   "outputs": [],
   "source": [
    "class NonlinearPoisson(TransportCoefficients.TC_base):\n",
    "    def __init__(self,A,rofx):\n",
    "        TransportCoefficients.TC_base.__init__(self, \n",
    "                         nc=1, \n",
    "                         variableNames=['u'],\n",
    "                         diffusion = {0:{0:{0:'constant'}}},\n",
    "                         potential = {0:{0:'nonlinear'}},\n",
    "                         reaction  = {0:{0:'constant'}})\n",
    "        self.A=A;\n",
    "        self.rofx=rofx\n",
    "    def evaluate(self,t,c):\n",
    "        c[('a',0,0)][...,0] = self.A[0][0]\n",
    "        c[('a',0,0)][...,3] = self.A[1][1]\n",
    "        c[('r',0)][:]       = self.rofx(c['x'][:])\n",
    "        c[('phi',0)][:]     = c[('u',0)]**2+10.0*c[('u',0)]\n",
    "        c[('dphi',0,0)][:]  = 2.0*c[('u',0)] + 10.0"
   ]
  },
  {
   "cell_type": "code",
   "execution_count": null,
   "metadata": {
    "collapsed": true,
    "deletable": true,
    "editable": true,
    "slideshow": {
     "slide_type": "subslide"
    }
   },
   "outputs": [],
   "source": [
    "physics.coefficients = NonlinearPoisson([[1.0,0.0],[0.0,1.0]], r)\n",
    "numerics.tolFac=0.0\n",
    "numerics.nl_atol_res = 1.0e-8\n",
    "#numerics.nn=21"
   ]
  },
  {
   "cell_type": "code",
   "execution_count": null,
   "metadata": {
    "collapsed": false,
    "deletable": true,
    "editable": true,
    "slideshow": {
     "slide_type": "subslide"
    }
   },
   "outputs": [],
   "source": [
    "ns = NumericalSolution.NS_base(so,[physics],[numerics],so.sList,opts)\n",
    "failed = ns.calculateSolution('run2')\n",
    "assert(not failed)"
   ]
  },
  {
   "cell_type": "code",
   "execution_count": null,
   "metadata": {
    "collapsed": false,
    "deletable": true,
    "editable": true,
    "slideshow": {
     "slide_type": "subslide"
    }
   },
   "outputs": [],
   "source": [
    "model = ns.modelList[0].levelModelList[-1]\n",
    "plt.figure()\n",
    "plt.tricontourf(model.mesh.nodeArray[:,0],\n",
    "                model.mesh.nodeArray[:,1],\n",
    "                model.mesh.elementNodesArray,\n",
    "                model.u[0].dof)"
   ]
  },
  {
   "cell_type": "markdown",
   "metadata": {
    "deletable": true,
    "editable": true,
    "slideshow": {
     "slide_type": "slide"
    }
   },
   "source": [
    "A Python toolkit for research on ***numerical methods***"
   ]
  },
  {
   "cell_type": "code",
   "execution_count": null,
   "metadata": {
    "collapsed": true,
    "deletable": true,
    "editable": true,
    "slideshow": {
     "slide_type": "fragment"
    }
   },
   "outputs": [],
   "source": [
    "physics.coefficients = PoissonEquationCoefficients([a],[r]) \n",
    "numerics.femSpaces={0:FemTools.P2}\n",
    "ns = NumericalSolution.NS_base(so,[physics],[numerics],so.sList,opts)\n",
    "failed = ns.calculateSolution('run3')\n",
    "assert(not failed)"
   ]
  },
  {
   "cell_type": "code",
   "execution_count": null,
   "metadata": {
    "collapsed": false,
    "deletable": true,
    "editable": true,
    "slideshow": {
     "slide_type": "slide"
    }
   },
   "outputs": [],
   "source": [
    "model = ns.modelList[0].levelModelList[-1]\n",
    "import matplotlib.tri as tri\n",
    "triang = tri.Triangulation(model.u[0].femSpace.dofMap.lagrangeNodesArray[:,0],\n",
    "                model.u[0].femSpace.dofMap.lagrangeNodesArray[:,1])\n",
    "\n",
    "plt.figure()\n",
    "plt.tricontourf(triang, model.u[0].dof)"
   ]
  },
  {
   "cell_type": "markdown",
   "metadata": {
    "deletable": true,
    "editable": true,
    "slideshow": {
     "slide_type": "slide"
    }
   },
   "source": [
    "What does this have to do with FSI?\n",
    "==================================="
   ]
  },
  {
   "cell_type": "markdown",
   "metadata": {
    "deletable": true,
    "editable": true,
    "slideshow": {
     "slide_type": "fragment"
    }
   },
   "source": [
    "- Many open questions or choices still exist about models and methods\n",
    "- Many more open questions existed ten years ago\n",
    "- There is no universal FSI formulation\n",
    "- There is no best method for all flow regimes and applications\n",
    "\n",
    "***To succeed in modeling FSI we need a platform for conducting research and streamlining the path from research to production models.*** "
   ]
  },
  {
   "cell_type": "markdown",
   "metadata": {
    "deletable": true,
    "editable": true,
    "slideshow": {
     "slide_type": "slide"
    }
   },
   "source": [
    "![cartoon](images/fsi_simple.png)"
   ]
  },
  {
   "cell_type": "markdown",
   "metadata": {
    "deletable": true,
    "editable": true,
    "slideshow": {
     "slide_type": "slide"
    }
   },
   "source": [
    "Brief description of formulations and methods\n",
    "=============================================\n",
    "- Hybrid level set/volume-of-fluid methods for topological change\n",
    "- Signed distance solvers (Eikonal equation)\n",
    "- Transport solvers (VOF, Level Set)\n",
    "- Navier-Stokes solvers (DNS, LES, RANS)\n",
    "- Moving mesh methods for some solid/fluid interfaces\n",
    "- Immersed/embedded methods for other solid/fluid interfaces"
   ]
  },
  {
   "cell_type": "markdown",
   "metadata": {
    "deletable": true,
    "editable": true,
    "slideshow": {
     "slide_type": "slide"
    }
   },
   "source": [
    "<video controls src=\"images/ubbink_vel.mp4\" />"
   ]
  },
  {
   "cell_type": "markdown",
   "metadata": {
    "deletable": true,
    "editable": true,
    "slideshow": {
     "slide_type": "slide"
    }
   },
   "source": [
    "<video controls src=\"images/wigleyFineSurfZ.mp4\" />"
   ]
  },
  {
   "cell_type": "markdown",
   "metadata": {
    "deletable": true,
    "editable": true,
    "slideshow": {
     "slide_type": "slide"
    }
   },
   "source": [
    "<video controls src=\"images/dtmb.mp4\" />"
   ]
  },
  {
   "cell_type": "markdown",
   "metadata": {
    "deletable": true,
    "editable": true,
    "slideshow": {
     "slide_type": "slide"
    }
   },
   "source": [
    "<video controls alt=\"test\" src=\"images/vofOpSlow4.mp4\"/>\n"
   ]
  },
  {
   "cell_type": "markdown",
   "metadata": {
    "deletable": true,
    "editable": true,
    "slideshow": {
     "slide_type": "slide"
    }
   },
   "source": [
    "Air-Water Verification and Validation\n",
    "=====================================\n",
    "- Cooperative project with HR  Wallingford\n",
    "- https://github.com/erdc/air-water-vv"
   ]
  }
 ],
 "metadata": {
  "celltoolbar": "Slideshow",
  "kernelspec": {
   "display_name": "Python 2",
   "language": "python",
   "name": "python2"
  },
  "language_info": {
   "codemirror_mode": {
    "name": "ipython",
    "version": 2
   },
   "file_extension": ".py",
   "mimetype": "text/x-python",
   "name": "python",
   "nbconvert_exporter": "python",
   "pygments_lexer": "ipython2",
   "version": "2.7.11"
  }
 },
 "nbformat": 4,
 "nbformat_minor": 1
}
