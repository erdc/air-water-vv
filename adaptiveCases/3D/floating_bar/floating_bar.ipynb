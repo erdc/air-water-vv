{
 "cells": [
  {
   "cell_type": "markdown",
   "metadata": {
    "slideshow": {
     "slide_type": "slide"
    }
   },
   "source": [
    "Numerical Wave Tank (3D Version)\n",
    "===========================\n",
    "\n",
    "This notebook provides a numerical model of a wave tank that would look something like this schematically:\n"
   ]
  },
  {
   "cell_type": "markdown",
   "metadata": {
    "slideshow": {
     "slide_type": "fragment"
    }
   },
   "source": [
    "- The numerical model is provided by Proteus (http://proteus.usace.army.mil)\n",
    "- Proteus is being developed at ERDC and includes 2D and 3D versions of this numerical model\n",
    "- This notebook will stick to 2D because it's faster and easier to pre- and post-process."
   ]
  },
  {
   "cell_type": "markdown",
   "metadata": {
    "slideshow": {
     "slide_type": "slide"
    }
   },
   "source": [
    "Mathematical Model\n",
    "===============\n",
    "\n",
    "To model a tank with breaking and overtopping, we solve the following air/water flow equations in 2D (a vertical slice):\n",
    "\n",
    "$$\n",
    "\\begin{eqnarray}\n",
    "\\nabla \\cdot \\left( \\epsilon \\mathbf v \\right) &=& s \\\\\n",
    "\\frac{\\partial \\left( \\epsilon \\mathbf v \\right)}{\\partial t} +\\nabla \\cdot  \\left(\\epsilon \\mathbf v \\otimes \\mathbf v\\right) -  \\nabla \\cdot \\left\\{\\epsilon \\nu_t \\left(\\nabla  \\mathbf v+\\nabla \\mathbf v^T\\right) \\right\\} + \\mathbf r + \\frac{\\epsilon \\nabla p}{\\rho} &=& 0 \\\\\n",
    "\\frac{\\partial \\phi}{\\partial t} + \\mathbf v \\cdot \\nabla \\phi &=& 0 \\\\\n",
    "\\|\\nabla \\phi\\| &=& 1 \\\\\n",
    "\\frac{\\partial \\theta}{\\partial t} + \\nabla \\cdot \\left( \\theta \\epsilon \\mathbf v \\right) &=& 0 \\\\\n",
    "H(\\phi) &=& \\theta \n",
    "\\end{eqnarray}\n",
    "$$"
   ]
  },
  {
   "cell_type": "markdown",
   "metadata": {
    "slideshow": {
     "slide_type": "slide"
    }
   },
   "source": [
    "Notes about this demo\n",
    "================\n",
    "\n",
    "- This software can be run locally on mac, windows, and linux if the Proteus stack is installed.\n",
    "- It can also be accessed with a cloud service like Sagemath Cloud, Wakari, or an internal cloud server if we invest in setting one up (you are probably viewing on Sagemath Cloud)\n",
    "- This particular notebook can also be saved as a Python script and run on HPC machines if they have the Proteus software stack installed\n",
    "- Grid generation, specification of input parameters like waves, boundary conditions, and material properties can all be viewed, set from pre-existing definitions, or redefined in this notebook.\n",
    "- The simulation is kicked off in the notebook as a seperate thread and monitored\n",
    "- The data is archived  in XDMF, which can be opened upon completion of the simulation for post-processing, furthermore additional simulations and multiple scripted runs can be orchestrated by modifying this notebook.\n",
    "\n"
   ]
  },
  {
   "cell_type": "markdown",
   "metadata": {
    "slideshow": {
     "slide_type": "slide"
    }
   },
   "source": [
    "Parallelism \n",
    "=========\n",
    "\n",
    "- We need to use multiple processors to compute the solution efficiently in 3D and sometimes even in 2D. \n",
    "- The IPython infrastructure allows us to attach to a set of \"engines\" (e.g. MPI tasks on an HPC machine) "
   ]
  },
  {
   "cell_type": "code",
   "execution_count": 1,
   "metadata": {
    "collapsed": false,
    "slideshow": {
     "slide_type": "fragment"
    }
   },
   "outputs": [],
   "source": [
    "from IPython.parallel import Client, error\n",
    "cluster = Client(profile='mpi')\n",
    "view = cluster[:]"
   ]
  },
  {
   "cell_type": "markdown",
   "metadata": {
    "slideshow": {
     "slide_type": "slide"
    }
   },
   "source": [
    "IPython Parallel \"Magics\"\n",
    "====================\n",
    "\n",
    "As a first example of executing code in parallel on our, we use the cell magic `%%px` to execute some basic MPI code on every engine in our cluster. \n"
   ]
  },
  {
   "cell_type": "code",
   "execution_count": 2,
   "metadata": {
    "collapsed": false,
    "slideshow": {
     "slide_type": "fragment"
    }
   },
   "outputs": [
    {
     "name": "stdout",
     "output_type": "stream",
     "text": [
      "[stdout:0] MPI rank: 2/4\n",
      "[stdout:1] MPI rank: 3/4\n",
      "[stdout:2] MPI rank: 0/4\n",
      "[stdout:3] MPI rank: 1/4\n"
     ]
    }
   ],
   "source": [
    "%%px\n",
    "from mpi4py import MPI\n",
    "mpi = MPI.COMM_WORLD\n",
    "bcast = mpi.bcast\n",
    "barrier = mpi.barrier\n",
    "rank = mpi.rank\n",
    "print \"MPI rank: %i/%i\" % (mpi.rank,mpi.size)"
   ]
  },
  {
   "cell_type": "markdown",
   "metadata": {
    "slideshow": {
     "slide_type": "slide"
    }
   },
   "source": [
    "Load Proteus\n",
    "==========\n",
    "\n",
    "Proteus is a Python package consiting of multiple modules. We are going to define a problem and run a simulation interactively, so we pull in the iproteus (interactive proteus) module to set up a basic environment."
   ]
  },
  {
   "cell_type": "markdown",
   "metadata": {
    "slideshow": {
     "slide_type": "fragment"
    }
   },
   "source": [
    "Notes:\n",
    "---------\n",
    "\n",
    "- Proteus runs with logging that records verying amounts of information by setting logLevel from 1 to 11\n",
    "- The log is stored  in a .log file, which can be downloaded\n",
    "- If Profiling.verbose is set  to True then logging will show up in certain output cells of the notebook, which is usually not what you want"
   ]
  },
  {
   "cell_type": "code",
   "execution_count": 4,
   "metadata": {
    "collapsed": false
   },
   "outputs": [],
   "source": [
    "%%px\n",
    "import sys\n",
    "from proteus.iproteus import * "
   ]
  },
  {
   "cell_type": "code",
   "execution_count": 5,
   "metadata": {
    "collapsed": false,
    "slideshow": {
     "slide_type": "fragment"
    }
   },
   "outputs": [],
   "source": [
    "%%px\n",
    "from proteus import default_n, default_s, default_so\n",
    "Profiling.logLevel=5\n",
    "Profiling.verbose=False"
   ]
  },
  {
   "cell_type": "markdown",
   "metadata": {
    "slideshow": {
     "slide_type": "slide"
    }
   },
   "source": [
    "Define the tank geometry\n",
    "===================\n",
    "\n",
    "Importing the tank module reads a text file for the bathymetry transect and generates a polygonal domain. There are several options for how we can modify it:\n",
    "\n",
    "- add a file upload box to just upload a different bottom bathymetry\n",
    "- manipulate an interactive version of the resulting domain (an interactive version of the plot below)\n",
    "- manipulate vertices directly in domain.vertices and domain.segments\n",
    "\n"
   ]
  },
  {
   "cell_type": "code",
   "execution_count": 6,
   "metadata": {
    "collapsed": false
   },
   "outputs": [],
   "source": [
    "#!tar czvf mydir.tar.gz  ls_p.py tank_so.py twp_navier_stokes_n.py redist_n.py   twp_navier_stokes_p.py redist_p.py vof_n.py vof_p.py ls_consrv_n.py ls_consrv_p.py ls_n.py tank.py\n",
    "#!scp mydir.tar.gz spirit01.afrl.hpc.mil:"
   ]
  },
  {
   "cell_type": "code",
   "execution_count": 7,
   "metadata": {
    "collapsed": false
   },
   "outputs": [],
   "source": [
    "#%%px \n",
    "#import subprocess\n",
    "#if rank == 0:\n",
    "  #  status_gz = subprocess.call(\"gunzip \" +  \"mydir.tar.gz\", shell=True)\n",
    "    #status_tar = subprocess.call(\"tar \"+\"xvf mydir.tar\",shell=True)\n",
    "#    os.system('tar xzvf mydir.tgz')"
   ]
  },
  {
   "cell_type": "code",
   "execution_count": 8,
   "metadata": {
    "collapsed": false,
    "slideshow": {
     "slide_type": "fragment"
    }
   },
   "outputs": [],
   "source": [
    "%%px\n",
    "import floating_bar,floating_bar_so"
   ]
  },
  {
   "cell_type": "markdown",
   "metadata": {
    "slideshow": {
     "slide_type": "slide"
    }
   },
   "source": [
    "Physics and Numerics\n",
    "=================\n",
    "\n",
    "Load the modules the define the equations to be solved and the numerical methods to use."
   ]
  },
  {
   "cell_type": "code",
   "execution_count": 9,
   "metadata": {
    "collapsed": false,
    "slideshow": {
     "slide_type": "fragment"
    }
   },
   "outputs": [
    {
     "name": "stdout",
     "output_type": "stream",
     "text": [
      "[stdout:0] \n",
      "Constraints\n",
      "[1 1 1]\n",
      "[1 1 1]\n",
      "[[ 0.16666667  0.          0.        ]\n",
      " [ 0.          0.16666667  0.        ]\n",
      " [ 0.          0.          0.16666667]]\n",
      "[stdout:1] \n",
      "Constraints\n",
      "[1 1 1]\n",
      "[1 1 1]\n",
      "[[ 0.16666667  0.          0.        ]\n",
      " [ 0.          0.16666667  0.        ]\n",
      " [ 0.          0.          0.16666667]]\n",
      "[stdout:2] \n",
      "Constraints\n",
      "[1 1 1]\n",
      "[1 1 1]\n",
      "[[ 0.16666667  0.          0.        ]\n",
      " [ 0.          0.16666667  0.        ]\n",
      " [ 0.          0.          0.16666667]]\n",
      "[stdout:3] \n",
      "Constraints\n",
      "[1 1 1]\n",
      "[1 1 1]\n",
      "[[ 0.16666667  0.          0.        ]\n",
      " [ 0.          0.16666667  0.        ]\n",
      " [ 0.          0.          0.16666667]]\n"
     ]
    }
   ],
   "source": [
    "%%px\n",
    "from proteus import Comm\n",
    "from petsc4py import PETSc\n",
    "\n",
    "so = floating_bar_so\n",
    "so.tnList = so.tnList\n",
    "pList=[]\n",
    "nList=[]\n",
    "so.sList=[]\n",
    "OptDB = PETSc.Options()\n",
    "for (p,n) in so.pnList:\n",
    "    so.sList.append(default_s)\n",
    "    pList.append(__import__(p))\n",
    "    nList.append(__import__(n))\n",
    "    pList[-1].name = p\n",
    "    nList[-1].multilevelLinearSolver = default_n.KSP_petsc4py\n",
    "    nList[-1].levelLinearSolver = default_n.KSP_petsc4py\n",
    "    OptDB.setValue(nList[-1].linear_solver_options_prefix+\"ksp_type\", \"preonly\")\n",
    "    OptDB.setValue(nList[-1].linear_solver_options_prefix+\"pc_type\", \"lu\")\n",
    "    OptDB.setValue(nList[-1].linear_solver_options_prefix+\"pc_factor_mat_solver_package\",\"superlu_dist\")\n",
    "opts.save_dof = True\n",
    "opts.dataDir='.'\n",
    "opts.probDir='.'\n",
    "opts.logLevel=7\n",
    "opts.verbose=True"
   ]
  },
  {
   "cell_type": "markdown",
   "metadata": {
    "slideshow": {
     "slide_type": "slide"
    }
   },
   "source": [
    "Numerical Solution Object\n",
    "====================\n",
    "\n",
    "No we create an the numerical wavetank object and set it up to run in a thread on each engine."
   ]
  },
  {
   "cell_type": "code",
   "execution_count": 10,
   "metadata": {
    "collapsed": false,
    "slideshow": {
     "slide_type": "fragment"
    }
   },
   "outputs": [],
   "source": [
    "%%px\n",
    "ns = NumericalSolution.NS_base(so, pList, nList, so.sList, opts)"
   ]
  },
  {
   "cell_type": "code",
   "execution_count": 11,
   "metadata": {
    "collapsed": false,
    "slideshow": {
     "slide_type": "slide"
    }
   },
   "outputs": [
    {
     "data": {
      "text/plain": [
       "<AsyncResult: execute>"
      ]
     },
     "execution_count": 11,
     "metadata": {},
     "output_type": "execute_result"
    }
   ],
   "source": [
    "%%px --noblock\n",
    "from threading import Thread\n",
    "# Create a thread wrapper for the simulation.  The target must be an argument-less\n",
    "# function so we wrap the call to `calculateSolution` in a simple lambda:\n",
    "simulation_thread = Thread(target = lambda : ns.calculateSolution('run1'))"
   ]
  },
  {
   "cell_type": "markdown",
   "metadata": {},
   "source": [
    "Define some functions to help monitor the calculation\n",
    "------------------------------------------------"
   ]
  },
  {
   "cell_type": "code",
   "execution_count": 12,
   "metadata": {
    "collapsed": false
   },
   "outputs": [
    {
     "name": "stderr",
     "output_type": "stream",
     "text": [
      ":0: FutureWarning: IPython widgets are experimental and may change in the future.\n"
     ]
    }
   ],
   "source": [
    "import numpy as np\n",
    "import numpy\n",
    "from pythreejs import *"
   ]
  },
  {
   "cell_type": "code",
   "execution_count": 13,
   "metadata": {
    "collapsed": false
   },
   "outputs": [],
   "source": [
    "from IPython.core.display import clear_output\n",
    "\n",
    "def plot_current_results(in_place=True):\n",
    "    import numpy as np\n",
    "    #from mpl_toolkits.mplot3d import Axes3D\n",
    "    #import matplotlib.pyplot as  plt\n",
    "    \"\"\"Makes a blocking call to retrieve remote data and displays the solution mesh\n",
    "    as a contour plot.\n",
    "    \n",
    "    Parameters\n",
    "    ----------\n",
    "    in_place : bool\n",
    "        By default it calls clear_output so that new plots replace old ones.  Set\n",
    "        to False to allow keeping of all previous outputs.\n",
    "    \"\"\"\n",
    "    global nn,x,y,u,vertices,triangles,domain,rigid_bar\n",
    "    # We make a blocking call to load the remote data from the simulation into simple named \n",
    "    # variables we can read from the engine namespaces\n",
    "    #load_simulation_globals()\n",
    "    view.apply_sync(load_simulation_globals)\n",
    "    # And now we can use the view to read these variables from all the engines.  Then we\n",
    "    # concatenate all of them into single arrays for local plotting\n",
    "    #x = np.concatenate(view['x'])\n",
    "    #y = np.concatenate(view['y'])\n",
    "    #z = np.concatenate(view['z'])\n",
    "    vertices = np.concatenate(view['vertices'])\n",
    "    shifts = np.cumsum([0]+view['nn'][:-1])\n",
    "    flat_triangles = np.concatenate([ tri + shift for tri,shift in zip(view['triangles'], shifts) ])\n",
    "    #flat_triangles=triangles\n",
    "    # We can now call the matplotlib plotting function we need\n",
    "    #fig, ax = plt.subplots(subplot_kw=dict(aspect='equal'))\n",
    "    #fig = plt.figure()\n",
    "    #ax = fig.gca(projection='3d')\n",
    "    #print x.shape,y.shape,flat_triangles.shape\n",
    "    #print flat_triangles.flat[:].max(),flat_triangles.flat[:].min()\n",
    "    #ax.plot_trisurf(X=x, Y=y, TRIANGLES=flat_triangles)#, Z=z)\n",
    "    #ax.plot_trisurf(x,y,z)\n",
    "    widget_surface.geometry = FaceGeometry(vertices=list(vertices.flatten()),\n",
    "                                           face3=list(flat_triangles.flatten()))\n",
    "    #from matplotlib import tri\n",
    "    #mesh = tri.Triangulation(x,y,flat_triangles)\n",
    "    #help(mesh)\n",
    "    #ip = tri.LinearTriInterpolator(triangulation, u, trifinder=None)\n",
    "    #X = np.linspace(0,tank.domain.L[0],40)\n",
    "    #Z = np.linspace(0,tank.domain.L[1],40)\n",
    "    #U = np.zeros((40,40),'d')\n",
    "    #W = np.zeros((40,40),'d')\n",
    "    #U = ip(X,Z)\n",
    "    # We clear the notebook output before plotting this if in-place plot updating is requested\n",
    "    #if in_place:\n",
    "    #    clear_output()\n",
    "    #display(fig)\n",
    "    #return fig\n",
    "    return 0"
   ]
  },
  {
   "cell_type": "code",
   "execution_count": 14,
   "metadata": {
    "collapsed": false
   },
   "outputs": [],
   "source": [
    "def load_simulation_globals():\n",
    "    \"\"\"Put some variables we need in engine namespace.\n",
    "\n",
    "    These can then be retrieved by clients for inspection, visualization, etc.\n",
    "    \"\"\"\n",
    "    global nn, vertices,x, y, z, triangles,domain,rigid_bar\n",
    "    isosurface = ns.auxiliaryVariables[ns.modelList[2].name][0]\n",
    "    rigid_bar = ns.auxiliaryVariables[ns.modelList[0].name][0]\n",
    "    domain = ns.pList[0].domain\n",
    "    nodes = isosurface.nodes_array\n",
    "    triangles = isosurface.elements_array\n",
    "    x = nodes[:,0]\n",
    "    y = nodes[:,1]\n",
    "    z = nodes[:,2]\n",
    "    vertices = nodes\n",
    "    nn = len(x)\n",
    "    "
   ]
  },
  {
   "cell_type": "code",
   "execution_count": 15,
   "metadata": {
    "collapsed": false
   },
   "outputs": [],
   "source": [
    "def simulation_alive():\n",
    "    \"\"\"Return True if the simulation thread is still running on any engine.\n",
    "    \"\"\"\n",
    "    #return simulation_thread.is_alive()\n",
    "    return any(view.apply_sync(lambda : simulation_thread.is_alive()))"
   ]
  },
  {
   "cell_type": "code",
   "execution_count": 16,
   "metadata": {
    "collapsed": false
   },
   "outputs": [],
   "source": [
    "def monitor_simulation(refresh=5.0, plots_in_place=True):\n",
    "    \"\"\"Monitor the simulation progress and call plotting routine.\n",
    "\n",
    "    Supress KeyboardInterrupt exception if interrupted, ensure that the last \n",
    "    figure is always displayed and provide basic timing and simulation status.\n",
    "\n",
    "    Parameters\n",
    "    ----------\n",
    "    refresh : float\n",
    "      Refresh interval between calls to retrieve and plot data.  The default\n",
    "      is 5s, adjust depending on the desired refresh rate, but be aware that \n",
    "      very short intervals will start having a significant impact.\n",
    "\n",
    "    plots_in_place : bool\n",
    "       If true, every new figure replaces the last one, producing a (slow)\n",
    "       animation effect in the notebook.  If false, all frames are plotted\n",
    "       in sequence and appended in the output area.\n",
    "    \"\"\"\n",
    "    import datetime as dt, time\n",
    "    \n",
    "    if not simulation_alive():\n",
    "        plot_current_results(in_place=plots_in_place)\n",
    "        plt.close('all')\n",
    "        print 'Simulation has already finished, no monitoring to do.'\n",
    "        return\n",
    "    \n",
    "    t0 = dt.datetime.now()\n",
    "    fig = None\n",
    "    try:\n",
    "        while simulation_alive():\n",
    "            plot_current_results(in_place=plots_in_place)\n",
    "            #plt.close('all') # prevent re-plot of old figures\n",
    "            time.sleep(refresh) # so we don't hammer the server too fast\n",
    "    except (KeyboardInterrupt):#, error.TimeoutError):\n",
    "        msg = 'Monitoring interrupted, simulation is ongoing!'\n",
    "    else:\n",
    "        msg = 'Simulation completed!'\n",
    "    tmon = dt.datetime.now() - t0\n",
    "    #if plots_in_place and fig is not None:\n",
    "    #    clear_output()\n",
    "    #    display(fig)\n",
    "    print msg\n",
    "    print 'Monitored for: %s.' % tmon"
   ]
  },
  {
   "cell_type": "markdown",
   "metadata": {
    "slideshow": {
     "slide_type": "slide"
    }
   },
   "source": [
    "Run the tank\n",
    "=========="
   ]
  },
  {
   "cell_type": "code",
   "execution_count": 17,
   "metadata": {
    "collapsed": false,
    "slideshow": {
     "slide_type": "fragment"
    }
   },
   "outputs": [],
   "source": [
    "%px simulation_thread.start()"
   ]
  },
  {
   "cell_type": "code",
   "execution_count": null,
   "metadata": {
    "collapsed": false
   },
   "outputs": [],
   "source": [
    "view.apply_sync(load_simulation_globals)\n",
    "vertices = np.concatenate(view['vertices'])\n",
    "shifts = np.cumsum([0]+view['nn'][:-1])\n",
    "flat_triangles = np.concatenate([ tri + shift for tri,shift in zip(view['triangles'], shifts) ])"
   ]
  },
  {
   "cell_type": "code",
   "execution_count": null,
   "metadata": {
    "collapsed": false
   },
   "outputs": [],
   "source": [
    "from pythreejs import *\n",
    "from IPython.display import display\n",
    "domain = view['domain'][0]\n",
    "vertices = vertices#verticesview['vertices'][0]\n",
    "triangles=flat_triangles#view['triangles'][0]\n",
    "#rigid_bar = view['rigid_bar'][0]\n",
    "#L = view['ns'][0].pList[0].domain.L\n",
    "#x_ll = view['ns'][0].pList[0].domain.x_ll\n",
    "#b = view['ns'][0].nList[0].auxiliaryVariables[0].bar\n",
    "#sx,sy,sz = bar.boxsize\n",
    "sx,sy,sz = (0.5,0.5,0.5)\n",
    "widget_bar = Mesh(geometry=BoxGeometry(width=sx,height=sy,depth=sz),\n",
    "                    material=LambertMaterial(color='black'),\n",
    "                    position=(0.5,0.5,0.5))#b.getPosition())\n",
    "#widget.quaternion_from_rotation(b.getRotation())\n",
    "center = (0.5*(domain.x[0]+domain.L[0]),\n",
    "          0.5*(domain.x[1]+domain.L[1]),\n",
    "          0.5*(domain.x[2]+domain.L[2]))\n",
    "widget_surface = Mesh(geometry=FaceGeometry(vertices=list(vertices.flatten()),face3=list(flat_triangles.flatten())),\n",
    "                      material=LambertMaterial(color='aqua'))\n",
    "#widget.quaternion_from_rotation(b.getRotation())\n",
    "center = (0.5*(domain.x[0]+domain.L[0]),\n",
    "          0.5*(domain.x[1]+domain.L[1]),\n",
    "          0.5*(domain.x[2]+domain.L[2]))\n",
    "          \n",
    "children=[widget_bar,widget_surface]\n",
    "children.append(Mesh(geometry=BoxGeometry(width=domain.L[0],height=domain.L[1],depth=domain.L[2]), \n",
    "                     material=LambertMaterial(color=0xffffff, #color=0xccccff, \n",
    "                                              opacity=0.7,\n",
    "                                              refractionRatio=0.985, \n",
    "                                              reflectivity= 0.9,\n",
    "                                              transparent=True),\n",
    "                     position=center))\n",
    "#children.append(Mesh(geometry=PlaneGeometry(width=10,height=10),material=BasicMaterial(color='blue')))\n",
    "children.append(AmbientLight(color=0x777777))\n",
    "scene = Scene(children=children)\n",
    "c = PerspectiveCamera(target=center,\n",
    "                      position=(center[0],center[1]+2*domain.L[1],center[2]), \n",
    "                      up=[0,0,1], \n",
    "                      children=[DirectionalLight(color='white', \n",
    "                                                 position=(center[0],center[1],center[2]+2*domain.L[2]), \n",
    "                                                 intensity=0.5)])\n",
    "renderer = Renderer(camera=c, scene = scene, controls=[OrbitControls(controlling=c)])\n",
    "renderer.background='gray'\n",
    "ar = float(renderer.height)/(renderer.width)\n",
    "renderer.width = 600\n",
    "renderer.height = int(ar*renderer.width)\n",
    "display(renderer)"
   ]
  },
  {
   "cell_type": "code",
   "execution_count": null,
   "metadata": {
    "collapsed": false,
    "scrolled": true,
    "slideshow": {
     "slide_type": "fragment"
    }
   },
   "outputs": [],
   "source": [
    "monitor_simulation(refresh=5.0)"
   ]
  },
  {
   "cell_type": "markdown",
   "metadata": {
    "slideshow": {
     "slide_type": "slide"
    }
   },
   "source": [
    "Post-process the numerical solution\n",
    "=========================="
   ]
  },
  {
   "cell_type": "code",
   "execution_count": null,
   "metadata": {
    "collapsed": false,
    "slideshow": {
     "slide_type": "fragment"
    }
   },
   "outputs": [],
   "source": [
    "%%px\n",
    "from tables import  openFile\n",
    "archive = openFile('tank_p%d.h5' % (rank,),'r')"
   ]
  },
  {
   "cell_type": "code",
   "execution_count": null,
   "metadata": {
    "collapsed": false,
    "slideshow": {
     "slide_type": "fragment"
    }
   },
   "outputs": [],
   "source": [
    "def load_post_simulation_globals(it):\n",
    "    \"\"\"Put some variables we need in engine namespace.\n",
    "\n",
    "    These can then be retrieved by clients for inspection, visualization, etc.\n",
    "    \"\"\"\n",
    "    global phi\n",
    "    print it\n",
    "    phi=archive.getNode(\"/phi\"+`it`)[:];"
   ]
  },
  {
   "cell_type": "code",
   "execution_count": null,
   "metadata": {
    "collapsed": false,
    "slideshow": {
     "slide_type": "slide"
    }
   },
   "outputs": [],
   "source": [
    "x = np.concatenate(view['x'])\n",
    "y = np.concatenate(view['y'])\n",
    "shifts = numpy.cumsum([0]+view['nn'][:-1])\n",
    "flat_triangles = np.concatenate([ tri + shift for tri,shift in zip(view['triangles'], shifts) ])\n",
    "triplot(x,y,flat_triangles)"
   ]
  },
  {
   "cell_type": "code",
   "execution_count": null,
   "metadata": {
    "collapsed": false,
    "slideshow": {
     "slide_type": "slide"
    }
   },
   "outputs": [],
   "source": [
    "!rm phi*png\n",
    "import tank\n",
    "for it,t in enumerate(view['tank_so.tnList'][0]):\n",
    "    view.apply_sync(load_post_simulation_globals,it)\n",
    "    phi = np.concatenate(view['phi'])\n",
    "    pyplot.clf()\n",
    "    plt.xlabel(r'z[m]')\n",
    "    plt.ylabel(r'x[m]')\n",
    "    colors = ['b','g','r','c','m','y','k','w']\n",
    "    pylab.xlim(tank.domain.x[0]-0.1*tank.domain.L[0],tank.domain.x[0]+tank.domain.L[0]+0.1*tank.domain.L[0])    \n",
    "    pyplot.axis('equal')\n",
    "    for si,s in enumerate(tank.segments):\n",
    "        pyplot.plot([tank.domain.vertices[s[0]][0],\n",
    "                     tank.domain.vertices[s[1]][0]],\n",
    "                    [tank.domain.vertices[s[0]][1],\n",
    "                     tank.domain.vertices[s[1]][1]],\n",
    "                    color=colors[tank.domain.segmentFlags[si]-1],\n",
    "                    linewidth=2,\n",
    "                    marker='o')\n",
    "    pyplot.tricontour(x,y,flat_triangles,phi,[0])\n",
    "    pyplot.title('T=%2.2f' % (t,))\n",
    "    pyplot.savefig('phi%4.4d.png' % (it,))"
   ]
  },
  {
   "cell_type": "code",
   "execution_count": null,
   "metadata": {
    "collapsed": false,
    "slideshow": {
     "slide_type": "slide"
    }
   },
   "outputs": [],
   "source": [
    "!avconv -y -i phi%4d.png -c libx264 -qscale 1 tankPhi.mp4"
   ]
  },
  {
   "cell_type": "code",
   "execution_count": null,
   "metadata": {
    "collapsed": false,
    "slideshow": {
     "slide_type": "slide"
    }
   },
   "outputs": [],
   "source": [
    "from IPython.core.display import HTML\n",
    "data_uri_mp4 = open(\"tankPhi.mp4\", \"rb\").read().encode(\"base64\").replace(\"\\n\", \"\")\n",
    "video_tag = \"\"\"<video controls>\n",
    "<source type =\"video/mp4\" src=\"data:video/mp4;base64,{mp4}\"/>\n",
    "Your browser does not support the video tag\n",
    "</video>\"\"\".format(mp4=data_uri_mp4)\n",
    "HTML(data=video_tag)"
   ]
  },
  {
   "cell_type": "code",
   "execution_count": null,
   "metadata": {
    "collapsed": false,
    "slideshow": {
     "slide_type": "slide"
    }
   },
   "outputs": [],
   "source": [
    "from IPython.display import FileLink,FileLinks\n",
    "FileLink('tankPhi.mp4')"
   ]
  }
 ],
 "metadata": {
  "kernelspec": {
   "display_name": "Python 2",
   "language": "python",
   "name": "python2"
  },
  "language_info": {
   "codemirror_mode": {
    "name": "ipython",
    "version": 2
   },
   "file_extension": ".py",
   "mimetype": "text/x-python",
   "name": "python",
   "nbconvert_exporter": "python",
   "pygments_lexer": "ipython2",
   "version": "2.7.9"
  }
 },
 "nbformat": 4,
 "nbformat_minor": 0
}
